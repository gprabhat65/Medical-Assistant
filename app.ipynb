{
 "cells": [
  {
   "cell_type": "code",
   "execution_count": 13,
   "id": "3c2ff3e6-3af4-4843-b6ab-445c467e4a19",
   "metadata": {},
   "outputs": [],
   "source": [
    "import streamlit as st\n",
    "import pytesseract\n",
    "from langchain_openai import ChatOpenAI\n",
    "from langchain.schema import SystemMessage\n",
    "from PIL import Image\n",
    "\n",
    "st.title(\"Streamlit App\")\n",
    "st.write(\"All modules imported successfully!\")\n"
   ]
  },
  {
   "cell_type": "code",
   "execution_count": 14,
   "id": "013871c6-73d6-4a8e-ab7e-fe4bea312ad5",
   "metadata": {},
   "outputs": [],
   "source": [
    "def web_writer(a):\n",
    "    format_of_data = \".txt\"\n",
    "    file_name = a + format_of_data\n",
    "    with open(file_name, 'r') as f:\n",
    "        var = f.read()\n",
    "    return var"
   ]
  },
  {
   "cell_type": "code",
   "execution_count": 15,
   "id": "c2c2ced8-3f11-4da7-a1b3-9f1bbd3edb17",
   "metadata": {},
   "outputs": [],
   "source": [
    "example = web_writer(\"example\")\n",
    "key = \"###########################\"\n",
    "chatllm = ChatOpenAI(openai_api_key=key, temperature=0.8, model='gpt-3.5-turbo')"
   ]
  },
  {
   "cell_type": "code",
   "execution_count": 16,
   "id": "bd8c83bd-05e4-4397-b196-50a4763e0426",
   "metadata": {},
   "outputs": [],
   "source": [
    "def ans(inp, lang):\n",
    "    response = chatllm([\n",
    "        SystemMessage(\n",
    "            content=f\"Act as a professional pharmacist with 30 years of experience and tell all the details about {inp}\"\n",
    "                    f\"if it is a medicine, if it is a disease tell about the curing medicines for this disease in {lang} Language\"\n",
    "                    f\" take this as details to be provided \"\n",
    "                    f\"{example}\"\n",
    "                    f\"and fill the information and give the output in the same format\"),\n",
    "    ])\n",
    "    content = response.content\n",
    "    return content"
   ]
  },
  {
   "cell_type": "code",
   "execution_count": 17,
   "id": "828ccdcd-2878-4175-b95e-e35521a49ca1",
   "metadata": {},
   "outputs": [
    {
     "name": "stderr",
     "output_type": "stream",
     "text": [
      "2024-07-31 19:45:18.713 `label` got an empty value. This is discouraged for accessibility reasons and may be disallowed in the future by raising an exception. Please provide a non-empty label and hide it with label_visibility if needed.\n",
      "2024-07-31 19:45:18.714 `label` got an empty value. This is discouraged for accessibility reasons and may be disallowed in the future by raising an exception. Please provide a non-empty label and hide it with label_visibility if needed.\n",
      "2024-07-31 19:45:18.716 `label` got an empty value. This is discouraged for accessibility reasons and may be disallowed in the future by raising an exception. Please provide a non-empty label and hide it with label_visibility if needed.\n"
     ]
    }
   ],
   "source": [
    "# Centering logo using HTML\n",
    "st.markdown(\"\"\"\n",
    "    <div style=\"display: flex; justify-content: center;\">\n",
    "        <img src=\"https://www.freepnglogos.com/uploads/medicine-logo-png-1.png\" alt=\"Logo\" width=\"100\">\n",
    "    </div>\n",
    "    \"\"\", unsafe_allow_html=True)\n",
    "st.markdown(\"<h1 style='text-align: center;'>MEDICINE WEB</h1>\", unsafe_allow_html=True)\n",
    "st.markdown(\"<h3 style='text-align: center;'>ALL THE DETAILS FOR YOUR MEDICINES</h1>\", unsafe_allow_html=True)\n",
    "\n",
    "st.write(\"\\n\\n\\n\")\n",
    "st.markdown(\"<h3 style='text-align: center;'>Language</h1>\", unsafe_allow_html=True)\n",
    "option = st.selectbox('',\n",
    "    ('English', 'Hindi',  'Nepali')\n",
    ")\n",
    "st.markdown(\"<h3 style='text-align: center;'>Upload your medicine photos</h3>\", unsafe_allow_html=True)\n",
    "file = st.file_uploader(\"\", type=[\"jpg\", \"png\"])\n",
    "st.markdown(\"<h3 style='text-align: center;'>OR</h3>\", unsafe_allow_html=True)\n",
    "\n",
    "st.markdown(\"<h3 style='text-align: center;'>Name of your medicine or disease</h3>\", unsafe_allow_html=True)\n",
    "user_input = st.text_input(\"\")"
   ]
  },
  {
   "cell_type": "code",
   "execution_count": 18,
   "id": "c988e049-c7dc-4000-9c59-b3ee84406d2d",
   "metadata": {},
   "outputs": [],
   "source": [
    "def get_text(image_data):\n",
    "    t = pytesseract.image_to_string(image_data)\n",
    "    return t"
   ]
  },
  {
   "cell_type": "code",
   "execution_count": 19,
   "id": "0c4683cb-843a-44d8-9bb2-63a1b6d0a6cf",
   "metadata": {},
   "outputs": [],
   "source": [
    "if file:\n",
    "    image = Image.open(file)\n",
    "    st.image(image, use_column_width=True)\n",
    "    text = get_text(image)\n",
    "    with st.spinner(f'The details is being loaded for {text}'):\n",
    "        x = ans(text, option)\n",
    "        st.subheader(text)\n",
    "        st.write(x)"
   ]
  },
  {
   "cell_type": "code",
   "execution_count": 20,
   "id": "aa8b72df-3c2e-42dd-8868-0f1ea4d1b826",
   "metadata": {},
   "outputs": [],
   "source": [
    "if user_input:\n",
    "    text = user_input\n",
    "    with st.spinner(f'The details is being loaded for {text}'):\n",
    "        x = ans(text, option)\n",
    "        st.subheader(text)\n",
    "        st.write(x)"
   ]
  },
  {
   "cell_type": "code",
   "execution_count": null,
   "id": "84ca9b2e-2de3-4407-a520-e2cbed00ca6a",
   "metadata": {},
   "outputs": [],
   "source": []
  }
 ],
 "metadata": {
  "kernelspec": {
   "display_name": "Python 3 (ipykernel)",
   "language": "python",
   "name": "python3"
  },
  "language_info": {
   "codemirror_mode": {
    "name": "ipython",
    "version": 3
   },
   "file_extension": ".py",
   "mimetype": "text/x-python",
   "name": "python",
   "nbconvert_exporter": "python",
   "pygments_lexer": "ipython3",
   "version": "3.11.9"
  }
 },
 "nbformat": 4,
 "nbformat_minor": 5
}
